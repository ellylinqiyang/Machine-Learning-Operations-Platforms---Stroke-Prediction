{
  "cells": [
    {
      "cell_type": "markdown",
      "source": [
        "<a href=\"https://colab.research.google.com/github/zhizhuoli1/Machine-Learning-Operations-Platforms---Stroke-Prediction/blob/main/Azure%20-%20Stroke%20Prediction_ZhizhuoLi.ipynb\" target=\"_parent\"><img src=\"https://colab.research.google.com/assets/colab-badge.svg\" alt=\"Open In Colab\"/></a>"
      ],
      "metadata": {
        "id": "view-in-github",
        "colab_type": "text"
      },
      "id": "6c5f59c8-4c62-436d-a85d-c6b68924ec1b"
    },
    {
      "cell_type": "markdown",
      "source": [
        "# Set Up Azure Workspace for Dirty Data"
      ],
      "metadata": {
        "id": "f6b22e4e"
      },
      "id": "f6b22e4e"
    },
    {
      "cell_type": "code",
      "source": [
        "import numpy as np\n",
        "import pandas as pd\n",
        "import sklearn\n",
        "from imblearn.over_sampling import SMOTE\n",
        "from sklearn.linear_model import LogisticRegression\n",
        "from sklearn.model_selection import train_test_split\n",
        "from sklearn import metrics\n",
        "from sklearn.model_selection import RandomizedSearchCV\n",
        "import matplotlib.pyplot as plt\n",
        "import seaborn as sns\n",
        "from sklearn.metrics import precision_recall_fscore_support\n",
        "import warnings\n",
        "warnings.filterwarnings(\"ignore\")\n",
        "\n",
        "from azureml.core import Dataset, Workspace, Experiment\n",
        "ws = Workspace.from_config()\n",
        "exp = Experiment(workspace=ws, name=\"stroke_prediction\")\n",
        "run = exp.start_logging() \n",
        "subscription_id = 'edd414a3-1074-4950-b852-7c3fc44a2b0d'\n",
        "resource_group = 'docs-aml'\n",
        "workspace_name = 'docs_ws'\n",
        "workspace = Workspace(subscription_id, resource_group, workspace_name)\n",
        "dataset = Dataset.get_by_name(workspace, name='stroke_clean').to_pandas_dataframe()\n",
        "\n",
        "dataset['bmi'] = dataset['bmi'].apply(lambda x: float(x) if x != 'N/A' else np.nan)\n",
        "dt = dataset.dropna()\n",
        "dt = dt.drop(['id'], axis = 1)\n",
        "data = pd.get_dummies(dt, columns=['gender', 'ever_married','work_type', 'Residence_type','smoking_status'], drop_first=True, dtype=np.int64)\n",
        "y = data['stroke']\n",
        "X = data.drop(columns=['stroke'])\n",
        "oversample = SMOTE()\n",
        "X, y = oversample.fit_resample(X, y)\n",
        "dataset.head()"
      ],
      "outputs": [
        {
          "output_type": "execute_result",
          "execution_count": 1,
          "data": {
            "text/plain": "      id  gender   age  hypertension  heart_disease  ever_married  \\\n0   9046    Male  67.0             0              1          True   \n1  51676  Female  61.0             0              0          True   \n2  31112    Male  80.0             0              1          True   \n3  60182  Female  49.0             0              0          True   \n4   1665  Female  79.0             1              0          True   \n\n       work_type Residence_type  avg_glucose_level   bmi   smoking_status  \\\n0        Private          Urban             228.69  36.6  formerly smoked   \n1  Self-employed          Rural             202.21   NaN     never smoked   \n2        Private          Rural             105.92  32.5     never smoked   \n3        Private          Urban             171.23  34.4           smokes   \n4  Self-employed          Rural             174.12  24.0     never smoked   \n\n   stroke  \n0       1  \n1       1  \n2       1  \n3       1  \n4       1  ",
            "text/html": "<div>\n<style scoped>\n    .dataframe tbody tr th:only-of-type {\n        vertical-align: middle;\n    }\n\n    .dataframe tbody tr th {\n        vertical-align: top;\n    }\n\n    .dataframe thead th {\n        text-align: right;\n    }\n</style>\n<table border=\"1\" class=\"dataframe\">\n  <thead>\n    <tr style=\"text-align: right;\">\n      <th></th>\n      <th>id</th>\n      <th>gender</th>\n      <th>age</th>\n      <th>hypertension</th>\n      <th>heart_disease</th>\n      <th>ever_married</th>\n      <th>work_type</th>\n      <th>Residence_type</th>\n      <th>avg_glucose_level</th>\n      <th>bmi</th>\n      <th>smoking_status</th>\n      <th>stroke</th>\n    </tr>\n  </thead>\n  <tbody>\n    <tr>\n      <th>0</th>\n      <td>9046</td>\n      <td>Male</td>\n      <td>67.0</td>\n      <td>0</td>\n      <td>1</td>\n      <td>True</td>\n      <td>Private</td>\n      <td>Urban</td>\n      <td>228.69</td>\n      <td>36.6</td>\n      <td>formerly smoked</td>\n      <td>1</td>\n    </tr>\n    <tr>\n      <th>1</th>\n      <td>51676</td>\n      <td>Female</td>\n      <td>61.0</td>\n      <td>0</td>\n      <td>0</td>\n      <td>True</td>\n      <td>Self-employed</td>\n      <td>Rural</td>\n      <td>202.21</td>\n      <td>NaN</td>\n      <td>never smoked</td>\n      <td>1</td>\n    </tr>\n    <tr>\n      <th>2</th>\n      <td>31112</td>\n      <td>Male</td>\n      <td>80.0</td>\n      <td>0</td>\n      <td>1</td>\n      <td>True</td>\n      <td>Private</td>\n      <td>Rural</td>\n      <td>105.92</td>\n      <td>32.5</td>\n      <td>never smoked</td>\n      <td>1</td>\n    </tr>\n    <tr>\n      <th>3</th>\n      <td>60182</td>\n      <td>Female</td>\n      <td>49.0</td>\n      <td>0</td>\n      <td>0</td>\n      <td>True</td>\n      <td>Private</td>\n      <td>Urban</td>\n      <td>171.23</td>\n      <td>34.4</td>\n      <td>smokes</td>\n      <td>1</td>\n    </tr>\n    <tr>\n      <th>4</th>\n      <td>1665</td>\n      <td>Female</td>\n      <td>79.0</td>\n      <td>1</td>\n      <td>0</td>\n      <td>True</td>\n      <td>Self-employed</td>\n      <td>Rural</td>\n      <td>174.12</td>\n      <td>24.0</td>\n      <td>never smoked</td>\n      <td>1</td>\n    </tr>\n  </tbody>\n</table>\n</div>"
          },
          "metadata": {}
        }
      ],
      "execution_count": 1,
      "metadata": {
        "jupyter": {
          "source_hidden": false,
          "outputs_hidden": false
        },
        "nteract": {
          "transient": {
            "deleting": false
          }
        },
        "gather": {
          "logged": 1636059696205
        }
      },
      "id": "87acffaa-6fb4-4042-87aa-2e539cfba14d"
    },
    {
      "cell_type": "markdown",
      "source": [
        "# Models\n",
        "## Logisitc Regression"
      ],
      "metadata": {
        "id": "fooKfSJwFrF1"
      },
      "id": "fooKfSJwFrF1"
    },
    {
      "cell_type": "code",
      "source": [
        "#split data \n",
        "X_train, X_test, y_train, y_test = train_test_split(X, y, test_size=0.2, random_state=8)"
      ],
      "outputs": [],
      "execution_count": 2,
      "metadata": {
        "gather": {
          "logged": 1636059696371
        },
        "id": "d30622d0"
      },
      "id": "d30622d0"
    },
    {
      "cell_type": "code",
      "source": [
        "log_model = LogisticRegression()\n",
        "solvers = ['newton-cg', 'lbfgs', 'liblinear']\n",
        "penalty = ['l1', 'l2']\n",
        "c_values = np.logspace(0, 5, num=10)\n",
        "grid = dict(solver=solvers,penalty=penalty,C=c_values)"
      ],
      "outputs": [],
      "execution_count": 3,
      "metadata": {
        "gather": {
          "logged": 1636059696496
        },
        "id": "4f02177c"
      },
      "id": "4f02177c"
    },
    {
      "cell_type": "code",
      "source": [
        "randomizedsearch = RandomizedSearchCV(log_model, grid)\n",
        "best_log = randomizedsearch.fit(X_train, y_train)\n",
        "best_log_model = best_log.best_estimator_\n",
        "print(\"The Best Logistics Model is as following: \\n\", best_log_model)"
      ],
      "outputs": [
        {
          "output_type": "stream",
          "name": "stdout",
          "text": "The Best Logistics Model is as following: \n LogisticRegression(C=27825.59402207126)\n"
        }
      ],
      "execution_count": 4,
      "metadata": {
        "gather": {
          "logged": 1636059697122
        },
        "id": "c58b137c",
        "outputId": "a59686f0-fbc3-4a30-87cb-203f3d19bcdf"
      },
      "id": "c58b137c"
    },
    {
      "cell_type": "code",
      "source": [
        "def model_metrics(X_test, y_test, model):\n",
        "    y_pred = model.predict(X_test)\n",
        "    accuracy_score = model.score(X_test, y_test)\n",
        "    f1_score = metrics.f1_score(y_test, y_pred)\n",
        "    roc_auc_score = metrics.roc_auc_score(y_test, y_pred)\n",
        "    return accuracy_score, f1_score, roc_auc_score"
      ],
      "outputs": [],
      "execution_count": 5,
      "metadata": {
        "gather": {
          "logged": 1636059697283
        },
        "id": "40d510a3"
      },
      "id": "40d510a3"
    },
    {
      "cell_type": "code",
      "source": [
        "def roc_curve(X, y, model):\n",
        "    import matplotlib.pyplot as plt\n",
        "\n",
        "    prob = model.predict_proba(X)\n",
        "    pred = prob[:,1]\n",
        "    fpr, tpr, threshold = metrics.roc_curve(y, pred)\n",
        "    roc_auc = metrics.auc(fpr, tpr)\n",
        "\n",
        "    plt.title('ROC Curve')\n",
        "    plt.plot(fpr, tpr, 'b', label = 'AUC = %0.1f' % roc_auc)\n",
        "    plt.legend(loc = 'lower right')\n",
        "    plt.plot([-0.01, 1.01], [-0.01, 1.01],'r--')\n",
        "    plt.xlim([-0.01, 1.01])\n",
        "    plt.ylim([-0.01, 1.01])\n",
        "    plt.ylabel('True Positive Rate')\n",
        "    plt.xlabel('False Positive Rate')\n",
        "    "
      ],
      "outputs": [],
      "execution_count": 6,
      "metadata": {
        "gather": {
          "logged": 1636059697432
        },
        "id": "5557ae0a"
      },
      "id": "5557ae0a"
    },
    {
      "cell_type": "code",
      "source": [
        "def classifcation_reports(X_test, X_train, y_test, y_train, model):\n",
        "    y_test_pred = model.predict(X_test)\n",
        "    y_train_pred = model.predict(X_train)\n",
        "    return('Classification report for train data is : \\n',metrics.classification_report(y_train, y_train_pred)),('Classification report for test data is : \\n',metrics.classification_report(y_test, y_test_pred))"
      ],
      "outputs": [],
      "execution_count": 7,
      "metadata": {
        "gather": {
          "logged": 1636059697558
        },
        "id": "d02d3f99"
      },
      "id": "d02d3f99"
    },
    {
      "cell_type": "code",
      "source": [
        "import seaborn as sns\n",
        "import numpy as np\n",
        "from sklearn.metrics import precision_recall_fscore_support\n",
        "import matplotlib.pyplot as plt"
      ],
      "outputs": [],
      "execution_count": 8,
      "metadata": {
        "jupyter": {
          "source_hidden": false,
          "outputs_hidden": false
        },
        "nteract": {
          "transient": {
            "deleting": false
          }
        },
        "gather": {
          "logged": 1636059697727
        },
        "id": "1464f98d-d476-48bb-b685-82214d16d3c9"
      },
      "id": "1464f98d-d476-48bb-b685-82214d16d3c9"
    },
    {
      "cell_type": "code",
      "source": [
        "def plot_classification_report(X_test, y_test, model, figsize=(5, 5), ax=None):\n",
        "    y_pred =best_log_model.predict(X_test)\n",
        "    plt.figure(figsize=figsize)\n",
        "\n",
        "    xticks = ['precision', 'recall', 'f1-score', 'support']\n",
        "    yticks = list(np.unique(y_test))\n",
        "    yticks += ['avg']\n",
        "\n",
        "    rep = np.array(precision_recall_fscore_support(y_test, y_pred)).T\n",
        "    avg = np.mean(rep, axis=0)\n",
        "    avg[-1] = np.sum(rep[:, -1])\n",
        "    rep = np.insert(rep, rep.shape[0], avg, axis=0)\n",
        "\n",
        "    sns.heatmap(rep,\n",
        "                annot=True, \n",
        "                cbar=True, \n",
        "                cmap=\"YlGnBu\",\n",
        "                xticklabels=xticks, \n",
        "                yticklabels=yticks,\n",
        "                ax=ax,\n",
        "                linewidths=.5)\n",
        "    "
      ],
      "outputs": [],
      "execution_count": 9,
      "metadata": {
        "jupyter": {
          "source_hidden": false,
          "outputs_hidden": false
        },
        "nteract": {
          "transient": {
            "deleting": false
          }
        },
        "gather": {
          "logged": 1636059697912
        },
        "id": "0047ee5e-53fc-48a7-911d-e075b2bb825a"
      },
      "id": "0047ee5e-53fc-48a7-911d-e075b2bb825a"
    },
    {
      "cell_type": "code",
      "source": [
        "accuracy_score,f1_score, roc_curve_score = model_metrics(X_test, y_test,best_log_model)\n",
        "run.log(\"accuracy_log\", accuracy_score)\n",
        "run.log(\"f1_score_log\", f1_score)\n",
        "run.log(\"roc_curve_score_log\", roc_curve_score)"
      ],
      "outputs": [],
      "execution_count": 10,
      "metadata": {
        "gather": {
          "logged": 1636059698066
        },
        "id": "374cbe67"
      },
      "id": "374cbe67"
    },
    {
      "cell_type": "code",
      "source": [
        "best_log_roc = roc_curve(X_test,y_test,best_log_model)\n",
        "run.log_image(\"log_roc_curve\", plot=plt)"
      ],
      "outputs": [
        {
          "output_type": "display_data",
          "data": {
            "text/plain": "<Figure size 432x288 with 1 Axes>",
            "image/png": "[encoded data removed]"
          },
          "metadata": {
            "needs_background": "light"
          }
        }
      ],
      "execution_count": 11,
      "metadata": {
        "gather": {
          "logged": 1636059698315
        },
        "id": "7f00c30f",
        "outputId": "af810a8c-1ce3-48be-fb12-0f8017a34c66"
      },
      "id": "7f00c30f"
    },
    {
      "cell_type": "code",
      "source": [
        "classfication_report = plot_classification_report(X_test, y_test,best_log_model)\n",
        "run.log_image(\"classifcation report\", plot=plt)"
      ],
      "outputs": [
        {
          "output_type": "display_data",
          "data": {
            "text/plain": "<Figure size 360x360 with 2 Axes>",
            "image/png": "[encoded data removed]"
          },
          "metadata": {
            "needs_background": "light"
          }
        }
      ],
      "execution_count": 12,
      "metadata": {
        "jupyter": {
          "source_hidden": false,
          "outputs_hidden": false
        },
        "nteract": {
          "transient": {
            "deleting": false
          }
        },
        "gather": {
          "logged": 1636059698452
        },
        "id": "38210baf-5f2f-4939-95a2-21d317184c3d",
        "outputId": "948e6278-a67b-4f24-8cac-e02493bbc85e"
      },
      "id": "38210baf-5f2f-4939-95a2-21d317184c3d"
    },
    {
      "cell_type": "code",
      "source": [
        "import joblib\n",
        "model_name = \"best_log_model.pkl\"\n",
        "filename = \"outputs/\" + model_name\n",
        "joblib.dump(value=best_log_model, filename=filename)\n",
        "run.upload_file(name=model_name, path_or_stream=filename)\n",
        "#run.complete()"
      ],
      "outputs": [
        {
          "output_type": "execute_result",
          "execution_count": 13,
          "data": {
            "text/plain": "<azureml._restclient.models.batch_artifact_content_information_dto.BatchArtifactContentInformationDto at 0x7f8b2dd0b668>"
          },
          "metadata": {}
        }
      ],
      "execution_count": 13,
      "metadata": {
        "jupyter": {
          "source_hidden": false,
          "outputs_hidden": false
        },
        "nteract": {
          "transient": {
            "deleting": false
          }
        },
        "gather": {
          "logged": 1636059699173
        },
        "id": "800b20c8-ccf2-4812-9a3f-c5dcc0da5154",
        "outputId": "a124e6c5-7338-4aff-dadf-e714c7b8f2d0"
      },
      "id": "800b20c8-ccf2-4812-9a3f-c5dcc0da5154"
    },
    {
      "cell_type": "markdown",
      "source": [
        "## Random Forest"
      ],
      "metadata": {
        "nteract": {
          "transient": {
            "deleting": false
          }
        },
        "id": "f4665b51-cd41-4d21-8e38-3ff5a01b4cac"
      },
      "id": "f4665b51-cd41-4d21-8e38-3ff5a01b4cac"
    },
    {
      "cell_type": "code",
      "source": [
        "from sklearn.ensemble import RandomForestClassifier\n",
        "from sklearn.model_selection import RandomizedSearchCV"
      ],
      "outputs": [],
      "execution_count": 14,
      "metadata": {
        "jupyter": {
          "source_hidden": false,
          "outputs_hidden": false
        },
        "nteract": {
          "transient": {
            "deleting": false
          }
        },
        "gather": {
          "logged": 1636059699362
        },
        "id": "e412e8ed-8fdc-4269-b255-ab53852e4d6f"
      },
      "id": "e412e8ed-8fdc-4269-b255-ab53852e4d6f"
    },
    {
      "cell_type": "code",
      "source": [
        "# Number of trees in random forest\n",
        "n_estimators = [int(x) for x in np.linspace(start = 200, stop = 2000, num = 10)]\n",
        "\n",
        "# Number of features to consider at every split\n",
        "max_features = ['auto', 'sqrt']\n",
        "\n",
        "# Maximum number of levels in tree\n",
        "max_depth = [int(x) for x in np.linspace(10, 110, num = 11)]\n",
        "max_depth.append(None)\n",
        "\n",
        "# Minimum number of samples required to split a node\n",
        "min_samples_split = [2, 5, 10]\n",
        "\n",
        "# Minimum number of samples required at each leaf node\n",
        "min_samples_leaf = [1, 2, 4]\n",
        "\n",
        "# Method of selecting samples for training each tree\n",
        "bootstrap = [True, False]\n",
        "\n",
        "# Create the random grid\n",
        "random_grid = {'n_estimators': n_estimators,\n",
        "               'max_features': max_features,\n",
        "               'max_depth': max_depth,\n",
        "               'min_samples_split': min_samples_split,\n",
        "               'min_samples_leaf': min_samples_leaf,\n",
        "               'bootstrap': bootstrap}"
      ],
      "outputs": [],
      "execution_count": 15,
      "metadata": {
        "jupyter": {
          "source_hidden": false,
          "outputs_hidden": false
        },
        "nteract": {
          "transient": {
            "deleting": false
          }
        },
        "gather": {
          "logged": 1636059699508
        },
        "id": "31cf4297-681d-4414-90d7-f496892f5eb0"
      },
      "id": "31cf4297-681d-4414-90d7-f496892f5eb0"
    },
    {
      "cell_type": "code",
      "source": [
        "# Use the random grid to search for best hyperparameters\n",
        "# First create the base model to tune\n",
        "rf = RandomForestClassifier()\n",
        "# Random search of parameters, using 3 fold cross validation, \n",
        "# search across 100 different combinations, and use all available cores\n",
        "rf_random = RandomizedSearchCV(estimator = rf, param_distributions = random_grid, n_iter = 50, cv = 3, verbose=2, random_state=8, n_jobs = -1)\n",
        "# Fit the random search model\n",
        "best_rf = rf_random.fit(X_train, y_train)\n",
        "best_rf_model = best_rf.best_estimator_\n",
        "print(\"The Best Random Forest Model is as following: \\n\", best_rf.best_estimator_)"
      ],
      "outputs": [
        {
          "output_type": "stream",
          "name": "stdout",
          "text": "Fitting 3 folds for each of 50 candidates, totalling 150 fits\n"
        }
      ],
      "execution_count": 16,
      "metadata": {
        "jupyter": {
          "source_hidden": false,
          "outputs_hidden": false
        },
        "nteract": {
          "transient": {
            "deleting": false
          }
        },
        "gather": {
          "logged": 1636059519166
        },
        "id": "6464167c-97ea-40d7-a941-6b05d3658e95",
        "outputId": "aadbc3f2-fcaa-4ddf-b9a2-0652039a04c9"
      },
      "id": "6464167c-97ea-40d7-a941-6b05d3658e95"
    },
    {
      "cell_type": "code",
      "source": [
        "accuracy_score,f1_score, roc_curve_score = model_metrics(X_test, y_test,best_rf_model)\n",
        "run.log(\"accuracy_log\", accuracy_score)\n",
        "run.log(\"f1_score_log\", f1_score)\n",
        "run.log(\"roc_curve_score_log\", roc_curve_score)"
      ],
      "outputs": [],
      "execution_count": null,
      "metadata": {
        "jupyter": {
          "source_hidden": false,
          "outputs_hidden": false
        },
        "nteract": {
          "transient": {
            "deleting": false
          }
        },
        "gather": {
          "logged": 1636059520132
        },
        "id": "0f295089-b41b-4beb-8b5a-a948f926f02b"
      },
      "id": "0f295089-b41b-4beb-8b5a-a948f926f02b"
    },
    {
      "cell_type": "code",
      "source": [
        "best_log_roc = roc_curve(X_test,y_test,best_rf_model)\n",
        "run.log_image(\"rf_roc_curve\", plot=plt)"
      ],
      "outputs": [],
      "execution_count": null,
      "metadata": {
        "jupyter": {
          "source_hidden": false,
          "outputs_hidden": false
        },
        "nteract": {
          "transient": {
            "deleting": false
          }
        },
        "gather": {
          "logged": 1636059520295
        },
        "id": "9f13b35f-a528-4a10-8028-5dbface54c4e",
        "outputId": "1b389e7b-95ac-4e35-e5c6-ca65d743a52a"
      },
      "id": "9f13b35f-a528-4a10-8028-5dbface54c4e"
    },
    {
      "cell_type": "code",
      "source": [
        "classfication_report = plot_classification_report(X_test, y_test,best_rf_model)\n",
        "run.log_image(\"classifcation report\", plot=plt)"
      ],
      "outputs": [],
      "execution_count": null,
      "metadata": {
        "jupyter": {
          "source_hidden": false,
          "outputs_hidden": false
        },
        "nteract": {
          "transient": {
            "deleting": false
          }
        },
        "gather": {
          "logged": 1636059521137
        },
        "id": "7a96f3e9-1a89-4ef0-9061-e2aac17dc521",
        "outputId": "7a5bf8d6-056d-47e9-e26b-8732dfcfff40"
      },
      "id": "7a96f3e9-1a89-4ef0-9061-e2aac17dc521"
    },
    {
      "cell_type": "code",
      "source": [
        "import joblib\n",
        "model_name2 = \"best_rf_model.pkl\"\n",
        "filename2 = \"outputs/\" + model_name2\n",
        "joblib.dump(value=best_rf_model, filename=filename2)\n",
        "run.upload_file(name=model_name2, path_or_stream=filename2)\n",
        "run.complete()"
      ],
      "outputs": [],
      "execution_count": null,
      "metadata": {
        "jupyter": {
          "source_hidden": false,
          "outputs_hidden": false
        },
        "nteract": {
          "transient": {
            "deleting": false
          }
        },
        "gather": {
          "logged": 1636059525070
        },
        "id": "3b272695-d91c-4f2d-9388-33ba1a189c4d"
      },
      "id": "3b272695-d91c-4f2d-9388-33ba1a189c4d"
    },
    {
      "cell_type": "code",
      "source": [],
      "outputs": [],
      "execution_count": null,
      "metadata": {
        "jupyter": {
          "source_hidden": false,
          "outputs_hidden": false
        },
        "nteract": {
          "transient": {
            "deleting": false
          }
        }
      },
      "id": "0b2cd24c-54bf-409a-983a-df6b0ab94aa7"
    }
  ],
  "metadata": {
    "kernelspec": {
      "name": "python3",
      "language": "python",
      "display_name": "Python 3"
    },
    "language_info": {
      "name": "python",
      "version": "3.6.9",
      "mimetype": "text/x-python",
      "codemirror_mode": {
        "name": "ipython",
        "version": 3
      },
      "pygments_lexer": "ipython3",
      "nbconvert_exporter": "python",
      "file_extension": ".py"
    },
    "microsoft": {
      "host": {
        "AzureML": {
          "notebookHasBeenCompleted": true
        }
      }
    },
    "nteract": {
      "version": "nteract-front-end@1.0.0"
    },
    "kernel_info": {
      "name": "python3"
    },
    "colab": {
      "name": "ZhizhuoLi_Stroke Prediction_logistic regression.ipynb",
      "provenance": [],
      "toc_visible": true,
      "include_colab_link": true
    }
  },
  "nbformat": 4,
  "nbformat_minor": 5
}